{
 "cells": [
  {
   "cell_type": "code",
   "execution_count": 1,
   "metadata": {},
   "outputs": [
    {
     "name": "stderr",
     "output_type": "stream",
     "text": [
      "/home/shawon/miniconda3/envs/llm_chatbot/lib/python3.9/site-packages/tqdm/auto.py:21: TqdmWarning: IProgress not found. Please update jupyter and ipywidgets. See https://ipywidgets.readthedocs.io/en/stable/user_install.html\n",
      "  from .autonotebook import tqdm as notebook_tqdm\n"
     ]
    }
   ],
   "source": [
    "from transformers import LlamaTokenizer, LlamaForCausalLM, GenerationConfig, pipeline\n",
    "from langchain.llms import HuggingFacePipeline\n",
    "from langchain import PromptTemplate, LLMChain\n",
    "\n",
    "import torch"
   ]
  },
  {
   "cell_type": "code",
   "execution_count": null,
   "metadata": {},
   "outputs": [],
   "source": [
    "tokenizer = LlamaTokenizer.from_pretrained(\"skeskinen/llama-lite-134m\")\n",
    "\n",
    "base_model = LlamaForCausalLM.from_pretrained(\n",
    "    \"skeskinen/llama-lite-134m\",\n",
    "    load_in_8bit=True,\n",
    "    device_map='auto',\n",
    ")"
   ]
  },
  {
   "cell_type": "code",
   "execution_count": 6,
   "metadata": {},
   "outputs": [
    {
     "name": "stderr",
     "output_type": "stream",
     "text": [
      "/home/shawon/miniconda3/envs/llm_chatbot/lib/python3.9/site-packages/tqdm/auto.py:21: TqdmWarning: IProgress not found. Please update jupyter and ipywidgets. See https://ipywidgets.readthedocs.io/en/stable/user_install.html\n",
      "  from .autonotebook import tqdm as notebook_tqdm\n"
     ]
    },
    {
     "name": "stdout",
     "output_type": "stream",
     "text": [
      "[]\n"
     ]
    }
   ],
   "source": [
    "from transformers import AutoTokenizer, AutoModelForTokenClassification\n",
    "from transformers import pipeline\n",
    "\n",
    "tokenizer = AutoTokenizer.from_pretrained(\"dslim/bert-base-NER\")\n",
    "model = AutoModelForTokenClassification.from_pretrained(\"dslim/bert-base-NER\")\n",
    "\n",
    "nlp = pipeline(\"ner\", model=model, tokenizer=tokenizer)\n",
    "example = \"Two rooms\"\n",
    "\n",
    "ner_results = nlp(example)\n",
    "print(ner_results)"
   ]
  },
  {
   "cell_type": "code",
   "execution_count": 14,
   "metadata": {},
   "outputs": [
    {
     "name": "stdout",
     "output_type": "stream",
     "text": [
      "Berlin\n",
      "Frankfurt\n"
     ]
    }
   ],
   "source": [
    "for ner in ner_results:\n",
    "    print(ner['word'])"
   ]
  },
  {
   "attachments": {},
   "cell_type": "markdown",
   "metadata": {},
   "source": []
  },
  {
   "cell_type": "code",
   "execution_count": 1,
   "metadata": {},
   "outputs": [
    {
     "name": "stdout",
     "output_type": "stream",
     "text": [
      "[{'b_max_los_data': {'extended_los': 90, 'experiment': 'long_stays_android_extend_los_2', 'is_fullon': 0, 'max_allowed_los': 90, 'has_extended_los': 1, 'default_los': 45}, 'label': 'Berlin, Berlin Federal State, Germany', 'type': 'ci', 'longitude': 13.376817, 'hotels': 1748, 'nr_hotels': 1748, 'cc1': 'de', 'region': 'Berlin Federal State', 'dest_type': 'city', 'name': 'Berlin', 'lc': 'en', 'image_url': 'https://cf.bstatic.com/xdata/images/city/150x150/977058.jpg?k=b22d1a8e3de5e776a2d7a56be3c33f8c97a9a5d4323d56eec29d25ac1f30cb56&o=', 'timezone': 'Europe/Berlin', 'dest_id': '-1746443', 'country': 'Germany', 'city_name': 'Berlin', 'rtl': 0, 'city_ufi': None, 'latitude': 52.516212}, {'nr_hotels': 287, 'hotels': 287, 'cc1': 'de', 'region': 'Berlin Federal State', 'label': 'Berlin City Centre, Berlin, Berlin Federal State, Germany', 'longitude': 13.374681, 'type': 'di', 'b_max_los_data': {'extended_los': 90, 'experiment': 'long_stays_android_extend_los_2', 'max_allowed_los': 90, 'is_fullon': 0, 'has_extended_los': 1, 'default_los': 45}, 'country': 'Germany', 'dest_id': '2285', 'rtl': 0, 'city_ufi': -1746443, 'latitude': 52.517666, 'city_name': 'Berlin', 'name': 'Berlin City Centre', 'lc': 'en', 'dest_type': 'district', 'image_url': 'https://cf.bstatic.com/xdata/images/district/150x150/38008.jpg?k=a91ddcd2491029644d871b7e17cfb6cc8b69a16c28f04378f4f04e616370d8a9&o=', 'timezone': 'Europe/Berlin'}, {'lc': 'en', 'name': 'Berlin Central Station', 'dest_type': 'landmark', 'timezone': 'Europe/Berlin', 'image_url': 'https://cf.bstatic.com/xdata/images/landmark/150x150/254682.jpg?k=5a213c7cfc320737f6711c5ea97751678b2a17777e122f7364543cf25eb70c0c&o=', 'country': 'Germany', 'dest_id': '11155', 'latitude': 52.525, 'rtl': 0, 'city_name': 'Berlin', 'city_ufi': -1746443, 'label': 'Berlin Central Station, Berlin, Berlin Federal State, Germany', 'longitude': 13.369403, 'type': 'la', 'b_max_los_data': {'extended_los': 90, 'experiment': 'long_stays_android_extend_los_2', 'has_extended_los': 1, 'is_fullon': 0, 'max_allowed_los': 90, 'default_los': 45}, 'nr_hotels': 81, 'hotels': 81, 'cc1': 'de', 'region': 'Berlin Federal State'}, {'dest_type': 'airport', 'name': 'Berlin Brandenburg Airport Willy Brandt', 'lc': 'en', 'image_url': 'https://cf.bstatic.com/static/img/plane-100.jpg', 'timezone': 'Europe/Berlin', 'dest_id': '7944', 'country': 'Germany', 'rtl': 0, 'latitude': 52.363, 'city_ufi': -1746443, 'city_name': 'Berlin', 'b_max_los_data': {'is_fullon': 0, 'max_allowed_los': 90, 'has_extended_los': 1, 'default_los': 45, 'extended_los': 90, 'experiment': 'long_stays_android_extend_los_2'}, 'label': 'Berlin Brandenburg Airport Willy Brandt, Berlin, Berlin Federal State, Germany', 'type': 'ai', 'longitude': 13.51, 'nr_hotels': 48, 'hotels': 48, 'cc1': 'de', 'region': 'Berlin Federal State'}, {'cc1': 'se', 'region': 'Stockholm county', 'hotels': 436, 'nr_hotels': 436, 'label': 'Stockholm, Stockholm county, Sweden', 'longitude': 18.065214, 'type': 'ci', 'b_max_los_data': {'experiment': 'long_stays_android_extend_los_2', 'extended_los': 90, 'default_los': 45, 'is_fullon': 0, 'max_allowed_los': 90, 'has_extended_los': 1}, 'rtl': 0, 'city_name': 'Stockholm', 'city_ufi': None, 'latitude': 59.332417, 'country': 'Sweden', 'dest_id': '-2524279', 'timezone': 'Europe/Stockholm', 'image_url': 'https://cf.bstatic.com/xdata/images/city/150x150/685779.jpg?k=8774db3e8159799b859ca794fcb96ad2e35105627c017436efb68fc7a7afa319&o=', 'lc': 'en', 'name': 'Stockholm', 'dest_type': 'city'}]\n"
     ]
    }
   ],
   "source": [
    "import requests\n",
    "\n",
    "url = \"https://booking-com.p.rapidapi.com/v1/hotels/locations\"\n",
    "\n",
    "querystring = {\"name\":\"Berlin\",\"locale\":\"en-gb\"}\n",
    "\n",
    "headers = {\n",
    "\t\"X-RapidAPI-Key\": \"5ad375f6ecmsh86c69825fb07338p1a7102jsn98eecd2509d5\",\n",
    "\t\"X-RapidAPI-Host\": \"booking-com.p.rapidapi.com\"\n",
    "}\n",
    "\n",
    "response = requests.get(url, headers=headers, params=querystring)\n",
    "\n",
    "print(response.json())"
   ]
  },
  {
   "cell_type": "code",
   "execution_count": 5,
   "metadata": {},
   "outputs": [
    {
     "data": {
      "text/plain": [
       "[{'b_max_los_data': {'extended_los': 90,\n",
       "   'experiment': 'long_stays_android_extend_los_2',\n",
       "   'is_fullon': 0,\n",
       "   'max_allowed_los': 90,\n",
       "   'has_extended_los': 1,\n",
       "   'default_los': 45},\n",
       "  'label': 'Berlin, Berlin Federal State, Germany',\n",
       "  'type': 'ci',\n",
       "  'longitude': 13.376817,\n",
       "  'hotels': 1748,\n",
       "  'nr_hotels': 1748,\n",
       "  'cc1': 'de',\n",
       "  'region': 'Berlin Federal State',\n",
       "  'dest_type': 'city',\n",
       "  'name': 'Berlin',\n",
       "  'lc': 'en',\n",
       "  'image_url': 'https://cf.bstatic.com/xdata/images/city/150x150/977058.jpg?k=b22d1a8e3de5e776a2d7a56be3c33f8c97a9a5d4323d56eec29d25ac1f30cb56&o=',\n",
       "  'timezone': 'Europe/Berlin',\n",
       "  'dest_id': '-1746443',\n",
       "  'country': 'Germany',\n",
       "  'city_name': 'Berlin',\n",
       "  'rtl': 0,\n",
       "  'city_ufi': None,\n",
       "  'latitude': 52.516212},\n",
       " {'nr_hotels': 287,\n",
       "  'hotels': 287,\n",
       "  'cc1': 'de',\n",
       "  'region': 'Berlin Federal State',\n",
       "  'label': 'Berlin City Centre, Berlin, Berlin Federal State, Germany',\n",
       "  'longitude': 13.374681,\n",
       "  'type': 'di',\n",
       "  'b_max_los_data': {'extended_los': 90,\n",
       "   'experiment': 'long_stays_android_extend_los_2',\n",
       "   'max_allowed_los': 90,\n",
       "   'is_fullon': 0,\n",
       "   'has_extended_los': 1,\n",
       "   'default_los': 45},\n",
       "  'country': 'Germany',\n",
       "  'dest_id': '2285',\n",
       "  'rtl': 0,\n",
       "  'city_ufi': -1746443,\n",
       "  'latitude': 52.517666,\n",
       "  'city_name': 'Berlin',\n",
       "  'name': 'Berlin City Centre',\n",
       "  'lc': 'en',\n",
       "  'dest_type': 'district',\n",
       "  'image_url': 'https://cf.bstatic.com/xdata/images/district/150x150/38008.jpg?k=a91ddcd2491029644d871b7e17cfb6cc8b69a16c28f04378f4f04e616370d8a9&o=',\n",
       "  'timezone': 'Europe/Berlin'},\n",
       " {'lc': 'en',\n",
       "  'name': 'Berlin Central Station',\n",
       "  'dest_type': 'landmark',\n",
       "  'timezone': 'Europe/Berlin',\n",
       "  'image_url': 'https://cf.bstatic.com/xdata/images/landmark/150x150/254682.jpg?k=5a213c7cfc320737f6711c5ea97751678b2a17777e122f7364543cf25eb70c0c&o=',\n",
       "  'country': 'Germany',\n",
       "  'dest_id': '11155',\n",
       "  'latitude': 52.525,\n",
       "  'rtl': 0,\n",
       "  'city_name': 'Berlin',\n",
       "  'city_ufi': -1746443,\n",
       "  'label': 'Berlin Central Station, Berlin, Berlin Federal State, Germany',\n",
       "  'longitude': 13.369403,\n",
       "  'type': 'la',\n",
       "  'b_max_los_data': {'extended_los': 90,\n",
       "   'experiment': 'long_stays_android_extend_los_2',\n",
       "   'has_extended_los': 1,\n",
       "   'is_fullon': 0,\n",
       "   'max_allowed_los': 90,\n",
       "   'default_los': 45},\n",
       "  'nr_hotels': 81,\n",
       "  'hotels': 81,\n",
       "  'cc1': 'de',\n",
       "  'region': 'Berlin Federal State'},\n",
       " {'dest_type': 'airport',\n",
       "  'name': 'Berlin Brandenburg Airport Willy Brandt',\n",
       "  'lc': 'en',\n",
       "  'image_url': 'https://cf.bstatic.com/static/img/plane-100.jpg',\n",
       "  'timezone': 'Europe/Berlin',\n",
       "  'dest_id': '7944',\n",
       "  'country': 'Germany',\n",
       "  'rtl': 0,\n",
       "  'latitude': 52.363,\n",
       "  'city_ufi': -1746443,\n",
       "  'city_name': 'Berlin',\n",
       "  'b_max_los_data': {'is_fullon': 0,\n",
       "   'max_allowed_los': 90,\n",
       "   'has_extended_los': 1,\n",
       "   'default_los': 45,\n",
       "   'extended_los': 90,\n",
       "   'experiment': 'long_stays_android_extend_los_2'},\n",
       "  'label': 'Berlin Brandenburg Airport Willy Brandt, Berlin, Berlin Federal State, Germany',\n",
       "  'type': 'ai',\n",
       "  'longitude': 13.51,\n",
       "  'nr_hotels': 48,\n",
       "  'hotels': 48,\n",
       "  'cc1': 'de',\n",
       "  'region': 'Berlin Federal State'},\n",
       " {'cc1': 'se',\n",
       "  'region': 'Stockholm county',\n",
       "  'hotels': 436,\n",
       "  'nr_hotels': 436,\n",
       "  'label': 'Stockholm, Stockholm county, Sweden',\n",
       "  'longitude': 18.065214,\n",
       "  'type': 'ci',\n",
       "  'b_max_los_data': {'experiment': 'long_stays_android_extend_los_2',\n",
       "   'extended_los': 90,\n",
       "   'default_los': 45,\n",
       "   'is_fullon': 0,\n",
       "   'max_allowed_los': 90,\n",
       "   'has_extended_los': 1},\n",
       "  'rtl': 0,\n",
       "  'city_name': 'Stockholm',\n",
       "  'city_ufi': None,\n",
       "  'latitude': 59.332417,\n",
       "  'country': 'Sweden',\n",
       "  'dest_id': '-2524279',\n",
       "  'timezone': 'Europe/Stockholm',\n",
       "  'image_url': 'https://cf.bstatic.com/xdata/images/city/150x150/685779.jpg?k=8774db3e8159799b859ca794fcb96ad2e35105627c017436efb68fc7a7afa319&o=',\n",
       "  'lc': 'en',\n",
       "  'name': 'Stockholm',\n",
       "  'dest_type': 'city'}]"
      ]
     },
     "execution_count": 5,
     "metadata": {},
     "output_type": "execute_result"
    }
   ],
   "source": [
    "response.json()"
   ]
  },
  {
   "cell_type": "code",
   "execution_count": 9,
   "metadata": {},
   "outputs": [
    {
     "name": "stdout",
     "output_type": "stream",
     "text": [
      "{'count': 195, 'mapPageFields': {'boundingBox': {'neLat': 52.5836256016837, 'neLon': 13.7257768213749, 'swLat': 52.4028361660212, 'swLon': 13.1783124804497}, 'propertyAnnotations': [{'longitude': 13.4155297279358, 'latitude': 52.5113043335399}, {'latitude': 52.49875696216, 'longitude': 13.4260569513935}, {'latitude': 52.5232013266777, 'longitude': 13.4129279851913}, {'longitude': 13.3418413996696, 'latitude': 52.5253799440195}, {'longitude': 13.38784, 'latitude': 52.50776}, {'longitude': 13.4370896, 'latitude': 52.5069651}, {'longitude': 13.3386522531509, 'latitude': 52.5036182963144}, {'latitude': 52.5059807367183, 'longitude': 13.3946608006954}, {'latitude': 52.5495, 'longitude': 13.384367}, {'latitude': 52.51221, 'longitude': 13.30466}, {'latitude': 52.510517, 'longitude': 13.406125}, {'longitude': 13.4109, 'latitude': 52.53667}, {'latitude': 52.503748, 'longitude': 13.340351}, {'longitude': 13.329097, 'latitude': 52.500837}, {'latitude': 52.5327929611895, 'longitude': 13.3804142475128}, {'longitude': 13.4145185351372, 'latitude': 52.5257070433141}, {'latitude': 52.5152953838046, 'longitude': 13.3976501226425}, {'longitude': 13.3815681349182, 'latitude': 52.5319576773237}, {'longitude': 13.428181707859, 'latitude': 52.5478125993861}, {'latitude': 52.5035994659292, 'longitude': 13.3581648766449}]}, 'results': [{'id': 877456, 'name': 'Catalonia Berlin Mitte', 'mainPhotoId': 238767450, 'photoMainUrl': 'https://cf.bstatic.com/xdata/images/hotel/400x800/238767450.jpg?k=4da0c34d6e17f7bac69a5875f4357692142b49a6099a2d0fd2c30b2ac849acb4&o=', 'photoUrls': ['https://cf.bstatic.com/xdata/images/hotel/square60/238767450.jpg?k=4da0c34d6e17f7bac69a5875f4357692142b49a6099a2d0fd2c30b2ac849acb4&o='], 'position': 2, 'rankingPosition': 2, 'countryCode': 'de', 'latitude': 52.5113043335399, 'longitude': 13.4155297279358, 'priceBreakdown': {'grossPrice': {'currency': 'AED', 'value': 1177.97016735579}, 'benefitBadges': [], 'taxExceptions': []}, 'currency': 'EUR', 'checkin': {'untilTime': '00:00', 'fromTime': '15:00'}, 'checkout': {'fromTime': '00:00', 'untilTime': '12:00'}, 'checkoutDate': '2023-09-29', 'checkinDate': '2023-09-27', 'reviewScore': 8.3, 'reviewScoreWord': 'Very good', 'reviewCount': 3422, 'qualityClass': 0, 'isFirstPage': True, 'accuratePropertyClass': 4, 'propertyClass': 4, 'ufi': -1746443, 'wishlistName': 'Berlin', 'optOutFromGalleryChanges': 0}, {'id': 557336, 'name': 'Hotel Vier Jahreszeiten Berlin City', 'mainPhotoId': 23735730, 'photoMainUrl': 'https://cf.bstatic.com/xdata/images/hotel/400x800/23735730.jpg?k=326d9c8da7ef875d17cf763c00812da39786f56877ffe32ab9f8d5fcf5c6b215&o=', 'photoUrls': ['https://cf.bstatic.com/xdata/images/hotel/square60/23735730.jpg?k=326d9c8da7ef875d17cf763c00812da39786f56877ffe32ab9f8d5fcf5c6b215&o='], 'position': 3, 'rankingPosition': 3, 'countryCode': 'de', 'latitude': 52.49875696216, 'longitude': 13.4260569513935, 'priceBreakdown': {'taxExceptions': [], 'grossPrice': {'value': 1123.78353965743, 'currency': 'AED'}, 'benefitBadges': [{'explanation': 'Mobile-only price', 'identifier': 'Mobile Rate', 'text': 'Mobile-only price', 'variant': 'constructive'}], 'strikethroughPrice': {'value': 1248.64837739714, 'currency': 'AED'}}, 'currency': 'EUR', 'checkin': {'untilTime': '00:00', 'fromTime': '14:00'}, 'checkout': {'fromTime': '00:00', 'untilTime': '11:00'}, 'checkoutDate': '2023-09-29', 'checkinDate': '2023-09-27', 'reviewScore': 7.6, 'reviewScoreWord': 'Good', 'reviewCount': 2475, 'qualityClass': 0, 'isFirstPage': True, 'accuratePropertyClass': 4, 'propertyClass': 4, 'ufi': -1746443, 'wishlistName': 'Berlin', 'optOutFromGalleryChanges': 0}, {'id': 63847, 'name': 'Park Inn by Radisson Berlin Alexanderplatz', 'mainPhotoId': 390719676, 'photoMainUrl': 'https://cf.bstatic.com/xdata/images/hotel/400x800/390719676.jpg?k=2c79a05b476a61271e0f459ad8ff7627921034a382eac694bec35a773e76187e&o=', 'photoUrls': ['https://cf.bstatic.com/xdata/images/hotel/square60/390719676.jpg?k=2c79a05b476a61271e0f459ad8ff7627921034a382eac694bec35a773e76187e&o='], 'position': 6, 'rankingPosition': 6, 'countryCode': 'de', 'latitude': 52.5232013266777, 'longitude': 13.4129279851913, 'priceBreakdown': {'taxExceptions': [], 'benefitBadges': [], 'grossPrice': {'currency': 'AED', 'value': 1781.09089304196}}, 'currency': 'EUR', 'checkin': {'fromTime': '15:00', 'untilTime': '00:00'}, 'checkout': {'fromTime': '00:00', 'untilTime': '12:00'}, 'checkoutDate': '2023-09-29', 'checkinDate': '2023-09-27', 'reviewScore': 7.3, 'reviewScoreWord': 'Good', 'reviewCount': 20195, 'qualityClass': 0, 'isFirstPage': True, 'accuratePropertyClass': 4, 'propertyClass': 4, 'ufi': -1746443, 'wishlistName': 'Berlin', 'optOutFromGalleryChanges': 1}, {'id': 60040, 'name': \"harry's home hotel & apartments\", 'mainPhotoId': 428768596, 'photoMainUrl': 'https://cf.bstatic.com/xdata/images/hotel/400x800/428768596.jpg?k=a1569b9e54703cdc2f04e4aa814ae51747d77ad268798caad7cdfdb6b8d9d05f&o=', 'photoUrls': ['https://cf.bstatic.com/xdata/images/hotel/square60/428768596.jpg?k=a1569b9e54703cdc2f04e4aa814ae51747d77ad268798caad7cdfdb6b8d9d05f&o='], 'position': 7, 'rankingPosition': 7, 'countryCode': 'de', 'latitude': 52.5253799440195, 'longitude': 13.3418413996696, 'priceBreakdown': {'taxExceptions': [], 'grossPrice': {'value': 1475.99661969681, 'currency': 'AED'}, 'benefitBadges': []}, 'currency': 'EUR', 'checkin': {'untilTime': '23:00', 'fromTime': '16:00'}, 'checkout': {'fromTime': '07:00', 'untilTime': '11:00'}, 'checkoutDate': '2023-09-29', 'checkinDate': '2023-09-27', 'reviewScore': 8.5, 'reviewScoreWord': 'Very good', 'reviewCount': 70, 'qualityClass': 0, 'isFirstPage': True, 'accuratePropertyClass': 4, 'propertyClass': 4, 'ufi': -1746443, 'wishlistName': 'Berlin', 'optOutFromGalleryChanges': 0}, {'id': 5518616, 'name': 'Wilde Aparthotels by Staycity, Berlin, Checkpoint Charlie', 'mainPhotoId': 217254456, 'photoMainUrl': 'https://cf.bstatic.com/xdata/images/hotel/400x800/217254456.jpg?k=2d3f1e93ebd051dc76cfd7efcd1e0b445eeffe231f9dd688a766480118377f3e&o=', 'photoUrls': ['https://cf.bstatic.com/xdata/images/hotel/square60/217254456.jpg?k=2d3f1e93ebd051dc76cfd7efcd1e0b445eeffe231f9dd688a766480118377f3e&o='], 'position': 8, 'rankingPosition': 8, 'countryCode': 'de', 'latitude': 52.50776, 'longitude': 13.38784, 'priceBreakdown': {'taxExceptions': [], 'benefitBadges': [], 'grossPrice': {'value': 1562.21582855869, 'currency': 'AED'}}, 'currency': 'EUR', 'checkin': {'fromTime': '15:00', 'untilTime': '22:00'}, 'checkout': {'fromTime': '07:00', 'untilTime': '11:00'}, 'checkoutDate': '2023-09-29', 'checkinDate': '2023-09-27', 'reviewScore': 9.1, 'reviewScoreWord': 'Superb', 'reviewCount': 1030, 'qualityClass': 0, 'isFirstPage': True, 'accuratePropertyClass': 4, 'propertyClass': 4, 'ufi': -1746443, 'wishlistName': 'Berlin', 'optOutFromGalleryChanges': 0}, {'id': 9790823, 'name': 'Locke at East Side Gallery', 'mainPhotoId': 441046240, 'photoMainUrl': 'https://cf.bstatic.com/xdata/images/hotel/400x800/441046240.jpg?k=76db28cc3ecfbe7d57c3250acfb8dc9ace416fb13ca3533cb351176006af545e&o=', 'photoUrls': ['https://cf.bstatic.com/xdata/images/hotel/square60/441046240.jpg?k=76db28cc3ecfbe7d57c3250acfb8dc9ace416fb13ca3533cb351176006af545e&o='], 'position': 10, 'rankingPosition': 10, 'countryCode': 'de', 'latitude': 52.5069651, 'longitude': 13.4370896, 'priceBreakdown': {'grossPrice': {'currency': 'AED', 'value': 1421.87237671135}, 'benefitBadges': [{'explanation': 'Getaway Deal ', 'identifier': 'Getaway 2021 Deals', 'text': 'Getaway Deal ', 'variant': 'constructive'}], 'strikethroughPrice': {'currency': 'AED', 'value': 1672.79103142512}, 'taxExceptions': []}, 'currency': 'EUR', 'checkin': {'untilTime': '00:00', 'fromTime': '16:00'}, 'checkout': {'fromTime': '03:00', 'untilTime': '11:00'}, 'checkoutDate': '2023-09-29', 'checkinDate': '2023-09-27', 'reviewScore': 0, 'reviewScoreWord': '', 'reviewCount': 0, 'qualityClass': 4, 'isFirstPage': True, 'accuratePropertyClass': 0, 'propertyClass': 0, 'ufi': -1746443, 'wishlistName': 'Berlin', 'optOutFromGalleryChanges': 0}, {'id': 60506, 'name': 'about:berlin Hotel', 'mainPhotoId': 243954432, 'photoMainUrl': 'https://cf.bstatic.com/xdata/images/hotel/400x800/243954432.jpg?k=0d3426672f07d0dfe6d74d1495872f2ff468134c9cd25612e2604c725d4855a2&o=', 'photoUrls': ['https://cf.bstatic.com/xdata/images/hotel/square60/243954432.jpg?k=0d3426672f07d0dfe6d74d1495872f2ff468134c9cd25612e2604c725d4855a2&o='], 'position': 12, 'rankingPosition': 12, 'countryCode': 'de', 'latitude': 52.5036182963144, 'longitude': 13.3386522531509, 'priceBreakdown': {'grossPrice': {'value': 1390.00479747983, 'currency': 'AED'}, 'benefitBadges': [], 'taxExceptions': []}, 'currency': 'EUR', 'checkin': {'untilTime': '22:30', 'fromTime': '15:00'}, 'checkout': {'fromTime': '00:00', 'untilTime': '12:00'}, 'checkoutDate': '2023-09-29', 'checkinDate': '2023-09-27', 'reviewScore': 8.6, 'reviewScoreWord': 'Fabulous', 'reviewCount': 3087, 'qualityClass': 0, 'isFirstPage': True, 'accuratePropertyClass': 4, 'propertyClass': 4, 'ufi': -1746443, 'wishlistName': 'Berlin', 'optOutFromGalleryChanges': 0}, {'id': 500286, 'name': 'Mondrian Suites Berlin am Checkpoint Charlie', 'mainPhotoId': 171735210, 'photoMainUrl': 'https://cf.bstatic.com/xdata/images/hotel/400x800/171735210.jpg?k=ce163a0ac134aa6e0f5cdc8207a0d2e4fc357804ebc15eb74bf34b68824b4e4b&o=', 'photoUrls': ['https://cf.bstatic.com/xdata/images/hotel/square60/171735210.jpg?k=ce163a0ac134aa6e0f5cdc8207a0d2e4fc357804ebc15eb74bf34b68824b4e4b&o='], 'position': 13, 'rankingPosition': 13, 'countryCode': 'de', 'latitude': 52.5059807367183, 'longitude': 13.3946608006954, 'priceBreakdown': {'strikethroughPrice': {'currency': 'AED', 'value': 1248.64837739714}, 'benefitBadges': [{'identifier': 'Mobile Rate', 'explanation': 'Mobile-only price', 'variant': 'constructive', 'text': 'Mobile-only price'}], 'grossPrice': {'value': 1123.78353965743, 'currency': 'AED'}, 'taxExceptions': []}, 'currency': 'EUR', 'checkin': {'untilTime': '00:00', 'fromTime': '15:00'}, 'checkout': {'fromTime': '00:00', 'untilTime': '11:00'}, 'checkoutDate': '2023-09-29', 'checkinDate': '2023-09-27', 'reviewScore': 8.4, 'reviewScoreWord': 'Very good', 'reviewCount': 4966, 'qualityClass': 0, 'isFirstPage': True, 'accuratePropertyClass': 4, 'propertyClass': 4, 'ufi': -1746443, 'wishlistName': 'Berlin', 'optOutFromGalleryChanges': 0}, {'id': 4085374, 'name': 'AC Hotel by Marriott Berlin Humboldthain Park', 'mainPhotoId': 437363170, 'photoMainUrl': 'https://cf.bstatic.com/xdata/images/hotel/400x800/437363170.jpg?k=f2586e4ee46dbca204f1a1d18901bd2994cbf029b6ce5f11717c63e75d0cd712&o=', 'photoUrls': ['https://cf.bstatic.com/xdata/images/hotel/square60/437363170.jpg?k=f2586e4ee46dbca204f1a1d18901bd2994cbf029b6ce5f11717c63e75d0cd712&o='], 'position': 14, 'rankingPosition': 14, 'countryCode': 'de', 'latitude': 52.5495, 'longitude': 13.384367, 'priceBreakdown': {'taxExceptions': [], 'benefitBadges': [], 'grossPrice': {'value': 1702.7558769128, 'currency': 'AED'}}, 'currency': 'EUR', 'checkin': {'untilTime': '00:00', 'fromTime': '15:00'}, 'checkout': {'fromTime': '00:00', 'untilTime': '12:00'}, 'checkoutDate': '2023-09-29', 'checkinDate': '2023-09-27', 'reviewScore': 8, 'reviewScoreWord': 'Very good', 'reviewCount': 1097, 'qualityClass': 0, 'isFirstPage': True, 'accuratePropertyClass': 4, 'propertyClass': 4, 'ufi': -1746443, 'wishlistName': 'Berlin', 'optOutFromGalleryChanges': 0}, {'id': 369126, 'name': \"Goodman's Living\", 'mainPhotoId': 42121736, 'photoMainUrl': 'https://cf.bstatic.com/xdata/images/hotel/400x800/42121736.jpg?k=a5d96bc4bb6ecb67490ff313b61ae9086f3fa57db40cbb324053d45ba7b40232&o=', 'photoUrls': ['https://cf.bstatic.com/xdata/images/hotel/square60/42121736.jpg?k=a5d96bc4bb6ecb67490ff313b61ae9086f3fa57db40cbb324053d45ba7b40232&o='], 'position': 15, 'rankingPosition': 15, 'countryCode': 'de', 'latitude': 52.51221, 'longitude': 13.30466, 'priceBreakdown': {'taxExceptions': [], 'benefitBadges': [], 'grossPrice': {'value': 1020.90747837502, 'currency': 'AED'}}, 'currency': 'EUR', 'checkin': {'fromTime': '15:00', 'untilTime': '18:00'}, 'checkout': {'untilTime': '11:00', 'fromTime': '07:00'}, 'checkoutDate': '2023-09-29', 'checkinDate': '2023-09-27', 'reviewScore': 8.5, 'reviewScoreWord': 'Very good', 'reviewCount': 1547, 'qualityClass': 0, 'isFirstPage': True, 'accuratePropertyClass': 4, 'propertyClass': 4, 'ufi': -1746443, 'wishlistName': 'Berlin', 'optOutFromGalleryChanges': 0}, {'id': 9511487, 'name': 'NG19. YOUR INSPIRING HOMEBASE.', 'mainPhotoId': 422013363, 'photoMainUrl': 'https://cf.bstatic.com/xdata/images/hotel/400x800/422013363.jpg?k=06033c9ac98fd6d1aae56ff60d9d6103f5eb928b44c3bc411add886a0ae144f8&o=', 'photoUrls': ['https://cf.bstatic.com/xdata/images/hotel/square60/422013363.jpg?k=06033c9ac98fd6d1aae56ff60d9d6103f5eb928b44c3bc411add886a0ae144f8&o='], 'position': 16, 'rankingPosition': 16, 'countryCode': 'de', 'latitude': 52.510517, 'longitude': 13.406125, 'priceBreakdown': {'benefitBadges': [], 'grossPrice': {'value': 1531.36121756253, 'currency': 'AED'}, 'taxExceptions': []}, 'currency': 'EUR', 'checkin': {'fromTime': '14:00', 'untilTime': '23:00'}, 'checkout': {'untilTime': '11:00', 'fromTime': '01:00'}, 'checkoutDate': '2023-09-29', 'checkinDate': '2023-09-27', 'reviewScore': 9, 'reviewScoreWord': 'Superb', 'reviewCount': 3, 'qualityClass': 4, 'isFirstPage': True, 'accuratePropertyClass': 0, 'propertyClass': 0, 'ufi': -1746443, 'wishlistName': 'Berlin', 'optOutFromGalleryChanges': 0}, {'id': 6392777, 'name': 'BENSIMON apartments Prenzlauer Berg', 'mainPhotoId': 257900653, 'photoMainUrl': 'https://cf.bstatic.com/xdata/images/hotel/400x800/257900653.jpg?k=974cdabfcc9d707757276e7cba6357b413f35374ed3bde19287948a0d1b89480&o=', 'photoUrls': ['https://cf.bstatic.com/xdata/images/hotel/square60/257900653.jpg?k=974cdabfcc9d707757276e7cba6357b413f35374ed3bde19287948a0d1b89480&o='], 'position': 17, 'rankingPosition': 17, 'countryCode': 'de', 'latitude': 52.53667, 'longitude': 13.4109, 'priceBreakdown': {'grossPrice': {'value': 1786.58808715628, 'currency': 'AED'}, 'benefitBadges': [], 'taxExceptions': []}, 'currency': 'EUR', 'checkin': {'fromTime': '15:00', 'untilTime': '00:00'}, 'checkout': {'fromTime': '01:00', 'untilTime': '11:00'}, 'checkoutDate': '2023-09-29', 'checkinDate': '2023-09-27', 'reviewScore': 9, 'reviewScoreWord': 'Superb', 'reviewCount': 377, 'qualityClass': 0, 'isFirstPage': True, 'accuratePropertyClass': 4, 'propertyClass': 4, 'ufi': -1746443, 'wishlistName': 'Berlin', 'optOutFromGalleryChanges': 0}, {'id': 60568, 'name': \"Crowne Plaza Berlin City Centre Ku'damm, an IHG Hotel\", 'mainPhotoId': 326951529, 'photoMainUrl': 'https://cf.bstatic.com/xdata/images/hotel/400x800/326951529.jpg?k=28946e86a18be05c0d1bd5ba3d7a34c0ba40a81551875a68da706e41b44582c7&o=', 'photoUrls': ['https://cf.bstatic.com/xdata/images/hotel/square60/326951529.jpg?k=28946e86a18be05c0d1bd5ba3d7a34c0ba40a81551875a68da706e41b44582c7&o='], 'position': 18, 'rankingPosition': 18, 'countryCode': 'de', 'latitude': 52.503748, 'longitude': 13.340351, 'priceBreakdown': {'taxExceptions': [], 'benefitBadges': [], 'grossPrice': {'currency': 'AED', 'value': 1772.84510187047}}, 'currency': 'EUR', 'checkin': {'fromTime': '15:00', 'untilTime': '00:00'}, 'checkout': {'untilTime': '12:00', 'fromTime': '00:00'}, 'checkoutDate': '2023-09-29', 'checkinDate': '2023-09-27', 'reviewScore': 8.2, 'reviewScoreWord': 'Very good', 'reviewCount': 4071, 'qualityClass': 0, 'isFirstPage': True, 'accuratePropertyClass': 4, 'propertyClass': 4, 'ufi': -1746443, 'wishlistName': 'Berlin', 'optOutFromGalleryChanges': 0}, {'id': 9648197, 'name': 'The Hoxton, Charlottenburg', 'mainPhotoId': 433838517, 'photoMainUrl': 'https://cf.bstatic.com/xdata/images/hotel/400x800/433838517.jpg?k=bd9015784901e0581e5b7540d742cd06c7efe6fae38a3f162605917d2cf7869d&o=', 'photoUrls': ['https://cf.bstatic.com/xdata/images/hotel/square60/433838517.jpg?k=bd9015784901e0581e5b7540d742cd06c7efe6fae38a3f162605917d2cf7869d&o='], 'position': 19, 'rankingPosition': 19, 'countryCode': 'de', 'latitude': 52.500837, 'longitude': 13.329097, 'priceBreakdown': {'benefitBadges': [], 'grossPrice': {'currency': 'AED', 'value': 2129.00676726834}, 'taxExceptions': []}, 'currency': 'EUR', 'checkin': {'untilTime': '00:00', 'fromTime': '14:00'}, 'checkout': {'fromTime': '00:00', 'untilTime': '11:00'}, 'checkoutDate': '2023-09-29', 'checkinDate': '2023-09-27', 'reviewScore': 8.8, 'reviewScoreWord': 'Fabulous', 'reviewCount': 60, 'qualityClass': 0, 'isFirstPage': True, 'accuratePropertyClass': 4, 'propertyClass': 4, 'ufi': -1746443, 'wishlistName': 'Berlin', 'optOutFromGalleryChanges': 0}, {'id': 266781, 'name': 'INNSiDE by Meliá Berlin Mitte', 'mainPhotoId': 443532347, 'photoMainUrl': 'https://cf.bstatic.com/xdata/images/hotel/400x800/443532347.jpg?k=d36b1bfc4ae91f4abe911a2a3148edd2b8129288245730f9f16af490f4452b03&o=', 'photoUrls': ['https://cf.bstatic.com/xdata/images/hotel/square60/443532347.jpg?k=d36b1bfc4ae91f4abe911a2a3148edd2b8129288245730f9f16af490f4452b03&o='], 'position': 20, 'rankingPosition': 20, 'countryCode': 'de', 'latitude': 52.5327929611895, 'longitude': 13.3804142475128, 'priceBreakdown': {'grossPrice': {'value': 1366.44539413272, 'currency': 'AED'}, 'benefitBadges': [], 'hasIncalculableCharges': True, 'taxExceptions': []}, 'currency': 'EUR', 'checkin': {'untilTime': '00:00', 'fromTime': '15:00'}, 'checkout': {'untilTime': '12:00', 'fromTime': '00:00'}, 'checkoutDate': '2023-09-29', 'checkinDate': '2023-09-27', 'reviewScore': 8.2, 'reviewScoreWord': 'Very good', 'reviewCount': 4358, 'qualityClass': 0, 'isFirstPage': True, 'accuratePropertyClass': 4, 'propertyClass': 4, 'ufi': -1746443, 'wishlistName': 'Berlin', 'optOutFromGalleryChanges': 1}, {'id': 266842, 'name': 'H4 Hotel Berlin Alexanderplatz', 'mainPhotoId': 118769167, 'photoMainUrl': 'https://cf.bstatic.com/xdata/images/hotel/400x800/118769167.jpg?k=405c933b82a50bbe1def3660ba4252ba1e1ebf406b6b4277490c2c4674ddf8c4&o=', 'photoUrls': ['https://cf.bstatic.com/xdata/images/hotel/square60/118769167.jpg?k=405c933b82a50bbe1def3660ba4252ba1e1ebf406b6b4277490c2c4674ddf8c4&o='], 'position': 21, 'rankingPosition': 21, 'countryCode': 'de', 'latitude': 52.5257070433141, 'longitude': 13.4145185351372, 'priceBreakdown': {'taxExceptions': [], 'grossPrice': {'currency': 'AED', 'value': 1441.83548484349}, 'benefitBadges': [{'explanation': 'Mobile-only price', 'identifier': 'Mobile Rate', 'text': 'Mobile-only price', 'variant': 'constructive'}], 'strikethroughPrice': {'currency': 'AED', 'value': 1602.03942760388}}, 'currency': 'EUR', 'checkin': {'fromTime': '15:00', 'untilTime': '00:00'}, 'checkout': {'fromTime': '00:00', 'untilTime': '12:00'}, 'checkoutDate': '2023-09-29', 'checkinDate': '2023-09-27', 'reviewScore': 8.2, 'reviewScoreWord': 'Very good', 'reviewCount': 7529, 'qualityClass': 0, 'isFirstPage': True, 'accuratePropertyClass': 4, 'propertyClass': 4, 'ufi': -1746443, 'wishlistName': 'Berlin', 'optOutFromGalleryChanges': 0}, {'id': 27948, 'name': 'ARCOTEL John F Berlin', 'mainPhotoId': 455600846, 'photoMainUrl': 'https://cf.bstatic.com/xdata/images/hotel/400x800/455600846.jpg?k=4b94561d418540826b923587ab770d4331616425bedb5bccb98d1238bebef270&o=', 'photoUrls': ['https://cf.bstatic.com/xdata/images/hotel/square60/455600846.jpg?k=4b94561d418540826b923587ab770d4331616425bedb5bccb98d1238bebef270&o='], 'position': 22, 'rankingPosition': 22, 'countryCode': 'de', 'latitude': 52.5152953838046, 'longitude': 13.3976501226425, 'priceBreakdown': {'benefitBadges': [], 'grossPrice': {'value': 1672.16791823379, 'currency': 'AED'}, 'taxExceptions': []}, 'currency': 'EUR', 'checkin': {'fromTime': '15:00', 'untilTime': '00:00'}, 'checkout': {'fromTime': '01:00', 'untilTime': '12:00'}, 'checkoutDate': '2023-09-29', 'checkinDate': '2023-09-27', 'reviewScore': 8.2, 'reviewScoreWord': 'Very good', 'reviewCount': 3955, 'qualityClass': 0, 'isFirstPage': True, 'accuratePropertyClass': 4, 'propertyClass': 4, 'ufi': -1746443, 'wishlistName': 'Berlin', 'optOutFromGalleryChanges': 1}, {'id': 1558304, 'name': 'TITANIC Chaussee Berlin', 'mainPhotoId': 420615017, 'photoMainUrl': 'https://cf.bstatic.com/xdata/images/hotel/400x800/420615017.jpg?k=9c9d3a2ad5fbcbb5848fff708c3a7c0edb25b703b3d33e81139ff7d4f161fe59&o=', 'photoUrls': ['https://cf.bstatic.com/xdata/images/hotel/square60/420615017.jpg?k=9c9d3a2ad5fbcbb5848fff708c3a7c0edb25b703b3d33e81139ff7d4f161fe59&o='], 'position': 23, 'rankingPosition': 23, 'countryCode': 'de', 'latitude': 52.5319576773237, 'longitude': 13.3815681349182, 'priceBreakdown': {'benefitBadges': [], 'strikethroughPrice': {'currency': 'AED', 'value': 1876.89913332023}, 'grossPrice': {'value': 1689.20921998821, 'currency': 'AED'}, 'taxExceptions': []}, 'currency': 'EUR', 'checkin': {'fromTime': '15:00', 'untilTime': '00:00'}, 'checkout': {'untilTime': '12:00', 'fromTime': '00:00'}, 'checkoutDate': '2023-09-29', 'checkinDate': '2023-09-27', 'reviewScore': 8.1, 'reviewScoreWord': 'Very good', 'reviewCount': 8933, 'qualityClass': 0, 'isFirstPage': True, 'accuratePropertyClass': 4, 'propertyClass': 4, 'ufi': -1746443, 'wishlistName': 'Berlin', 'optOutFromGalleryChanges': 0}, {'id': 62791, 'name': 'Holiday Inn Berlin City Center East Prenzlauer Berg, an IHG Hotel', 'mainPhotoId': 244272157, 'photoMainUrl': 'https://cf.bstatic.com/xdata/images/hotel/400x800/244272157.jpg?k=257acefdc4c97e2b7c02db5ff1a6045b4eefb0fd98f35063fa3999cd8c057c63&o=', 'photoUrls': ['https://cf.bstatic.com/xdata/images/hotel/square60/244272157.jpg?k=257acefdc4c97e2b7c02db5ff1a6045b4eefb0fd98f35063fa3999cd8c057c63&o='], 'position': 24, 'rankingPosition': 24, 'countryCode': 'de', 'latitude': 52.5478125993861, 'longitude': 13.428181707859, 'priceBreakdown': {'taxExceptions': [], 'grossPrice': {'value': 1131.90823109209, 'currency': 'AED'}, 'strikethroughPrice': {'value': 1257.67581232454, 'currency': 'AED'}, 'benefitBadges': [{'identifier': 'Mobile Rate', 'explanation': 'Mobile-only price', 'variant': 'constructive', 'text': 'Mobile-only price'}]}, 'currency': 'EUR', 'checkin': {'untilTime': '00:00', 'fromTime': '15:00'}, 'checkout': {'untilTime': '12:00', 'fromTime': '00:00'}, 'checkoutDate': '2023-09-29', 'checkinDate': '2023-09-27', 'reviewScore': 8.6, 'reviewScoreWord': 'Fabulous', 'reviewCount': 3417, 'qualityClass': 0, 'isFirstPage': True, 'accuratePropertyClass': 4, 'propertyClass': 4, 'ufi': -1746443, 'wishlistName': 'Berlin', 'optOutFromGalleryChanges': 0}, {'id': 60955, 'name': 'Hotel Residenz Begaswinkel', 'mainPhotoId': 40726653, 'photoMainUrl': 'https://cf.bstatic.com/xdata/images/hotel/400x800/40726653.jpg?k=3e766314c9a3a46f7d8273adcb60560d95719ec7fe0986a0ee2d58ca5c673834&o=', 'photoUrls': ['https://cf.bstatic.com/xdata/images/hotel/square60/40726653.jpg?k=3e766314c9a3a46f7d8273adcb60560d95719ec7fe0986a0ee2d58ca5c673834&o='], 'position': 25, 'rankingPosition': 25, 'countryCode': 'de', 'latitude': 52.5035994659292, 'longitude': 13.3581648766449, 'priceBreakdown': {'taxExceptions': [], 'benefitBadges': [], 'grossPrice': {'value': 1130.85136066156, 'currency': 'AED'}}, 'currency': 'EUR', 'checkin': {'untilTime': '20:00', 'fromTime': '14:00'}, 'checkout': {'untilTime': '11:00', 'fromTime': '07:30'}, 'checkoutDate': '2023-09-29', 'checkinDate': '2023-09-27', 'reviewScore': 8.1, 'reviewScoreWord': 'Very good', 'reviewCount': 925, 'qualityClass': 0, 'isFirstPage': True, 'accuratePropertyClass': 4, 'propertyClass': 4, 'ufi': -1746443, 'wishlistName': 'Berlin', 'optOutFromGalleryChanges': 0}]}\n"
     ]
    }
   ],
   "source": [
    "import requests\n",
    "\n",
    "url = \"https://booking-com.p.rapidapi.com/v2/hotels/search\"\n",
    "\n",
    "querystring = {\"order_by\":\"popularity\",\"adults_number\":\"2\",\"checkin_date\":\"2023-09-27\",\"filter_by_currency\":\"AED\",\"dest_id\":\"-1746443\",\"locale\":\"en-gb\",\n",
    "               \"checkout_date\":\"2023-09-29\",\"units\":\"metric\",\"room_number\":\"1\",\"dest_type\":\"city\",\"include_adjacency\":\"true\",\"page_number\":\"0\",\n",
    "               \"children_ages\":\"5,0\",\"categories_filter_ids\":\"class::2,class::4,free_cancellation::1\"}\n",
    "\n",
    "headers = {\n",
    "\t\"X-RapidAPI-Key\": \"74797e7d54msh40b29b3c55eb9a9p1392ecjsnba9a1ef4d4a9\",\n",
    "\t\"X-RapidAPI-Host\": \"booking-com.p.rapidapi.com\"\n",
    "}\n",
    "\n",
    "response = requests.get(url, headers=headers, params=querystring)\n",
    "\n",
    "print(response.json())"
   ]
  },
  {
   "cell_type": "code",
   "execution_count": 11,
   "metadata": {},
   "outputs": [],
   "source": [
    "res = response.json()"
   ]
  },
  {
   "cell_type": "code",
   "execution_count": 12,
   "metadata": {},
   "outputs": [
    {
     "data": {
      "text/plain": [
       "dict_keys(['count', 'mapPageFields', 'results'])"
      ]
     },
     "execution_count": 12,
     "metadata": {},
     "output_type": "execute_result"
    }
   ],
   "source": [
    "res.keys()"
   ]
  },
  {
   "cell_type": "code",
   "execution_count": 15,
   "metadata": {},
   "outputs": [
    {
     "data": {
      "text/plain": [
       "20"
      ]
     },
     "execution_count": 15,
     "metadata": {},
     "output_type": "execute_result"
    }
   ],
   "source": [
    "len(res['results'])"
   ]
  }
 ],
 "metadata": {
  "kernelspec": {
   "display_name": "llm_chatbot",
   "language": "python",
   "name": "llm_chatbot"
  },
  "language_info": {
   "codemirror_mode": {
    "name": "ipython",
    "version": 3
   },
   "file_extension": ".py",
   "mimetype": "text/x-python",
   "name": "python",
   "nbconvert_exporter": "python",
   "pygments_lexer": "ipython3",
   "version": "3.9.16"
  },
  "orig_nbformat": 4
 },
 "nbformat": 4,
 "nbformat_minor": 2
}
